
def cal_tauxvariation(f,a,h):
    tauxvariation=(f(a+h)-f(a))/h 
    return tauxvariation 

from sympy.utilities.lambdify import lambdify 
from sympy.abc import x, y, z

f = lambdify(x, 3*x**3 +x**2 -5) 
a=0 
h=1 
print(cal_tauxvariation(f,a,h))

