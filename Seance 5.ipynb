{
 "cells": [
  {
   "cell_type": "code",
   "execution_count": 7,
   "metadata": {},
   "outputs": [
    {
     "name": "stdout",
     "output_type": "stream",
     "text": [
      "4.0\n"
     ]
    }
   ],
   "source": [
    "##Exercice1\n",
    "def cal_tauxvariation(f,a,h):\n",
    "    tauxvariation=(f(a+h)-f(a))/h \n",
    "    return tauxvariation \n",
    "from sympy.utilities.lambdify import lambdify\n",
    "from sympy.abc import x, y, z\n",
    "f = lambdify(x, 3*x**3 +x**2 -5)\n",
    "a=0\n",
    "h=1 \n",
    "print(cal_tauxvariation(f,a,h))\n"
   ]
  },
  {
   "cell_type": "code",
   "execution_count": 13,
   "metadata": {},
   "outputs": [
    {
     "ename": "IndentationError",
     "evalue": "expected an indented block (<ipython-input-13-96231ca1f384>, line 8)",
     "output_type": "error",
     "traceback": [
      "\u001b[1;36m  File \u001b[1;32m\"<ipython-input-13-96231ca1f384>\"\u001b[1;36m, line \u001b[1;32m8\u001b[0m\n\u001b[1;33m    return coef\u001b[0m\n\u001b[1;37m    ^\u001b[0m\n\u001b[1;31mIndentationError\u001b[0m\u001b[1;31m:\u001b[0m expected an indented block\n"
     ]
    }
   ],
   "source": [
    "##Exercice2 \n",
    "def coefdirecteur(fn, a, b,p):\n",
    "    coef = []\n",
    "    # on ajoute à la liste le coef directeur entre l'intervall avec un pas p\n",
    "    for i in range(a,b,p):\n",
    "        # faire un coef.push\n",
    "\n",
    "    return coef\n",
    "\n",
    "def fn(x):\n",
    "    return (1+x)/(x-4)\n",
    "\n",
    "coef(fn, 0, 1, 2)\n"
   ]
  },
  {
   "cell_type": "code",
   "execution_count": 9,
   "metadata": {},
   "outputs": [
    {
     "data": {
      "text/plain": [
       "9"
      ]
     },
     "execution_count": 9,
     "metadata": {},
     "output_type": "execute_result"
    }
   ],
   "source": [
    "##Exercice4\n",
    "import numpy\n",
    "\n",
    "def T(n):\n",
    "    return (n**2-((n-1)**2))\n",
    "\n",
    "def S(n):\n",
    "    res = 0\n",
    "    for i in range(1, n+1):\n",
    "        res = res + T(i)\n",
    "    return res\n",
    "\n",
    "S(3)\n"
   ]
  },
  {
   "cell_type": "code",
   "execution_count": 10,
   "metadata": {},
   "outputs": [
    {
     "name": "stdout",
     "output_type": "stream",
     "text": [
      "1.0\n"
     ]
    },
    {
     "data": {
      "text/plain": [
       "0"
      ]
     },
     "execution_count": 10,
     "metadata": {},
     "output_type": "execute_result"
    }
   ],
   "source": [
    "##Exercice5\n",
    "def deter(e, u0):\n",
    "    b = 1;\n",
    "    un = u0\n",
    "    n = 0;\n",
    "    while ( b == 1 ):\n",
    "        un = uN(un)\n",
    "        print(un)\n",
    "        if(un < e):\n",
    "            b = 0\n",
    "        else:\n",
    "            n+=1\n",
    "\n",
    "    return n;\n",
    "\n",
    "def uN(un):\n",
    "    return 0.5*un\n",
    "\n",
    "deter(5, 2)\n"
   ]
  },
  {
   "cell_type": "code",
   "execution_count": 11,
   "metadata": {},
   "outputs": [
    {
     "name": "stdout",
     "output_type": "stream",
     "text": [
      "0.9288888888888889\n"
     ]
    }
   ],
   "source": [
    "##Exercice6\n",
    "def val_app(epsilon): \n",
    "    elm1=1\n",
    "    elm2=elm1-1/(3**2)\n",
    "    signe=1\n",
    "    val=5\n",
    "    while abs(elm2-elm1)>epsilon:\n",
    "       elm1=elm2\n",
    "       elm2=elm1+signe*(1/(val**2))\n",
    "       val+=2\n",
    "       signe*=(-1)\n",
    "    return elm2\n",
    " \n",
    "# tester la fonction\n",
    "print(val_app(0.05))"
   ]
  },
  {
   "cell_type": "code",
   "execution_count": 12,
   "metadata": {},
   "outputs": [
    {
     "name": "stdout",
     "output_type": "stream",
     "text": [
      "40.07875060343533\n"
     ]
    }
   ],
   "source": [
    "##Exercice 7\n",
    "def limite(epsilon):\n",
    "    U0 = 2\n",
    "    Un = U0+2/U0\n",
    "    while abs(Un-U0) > epsilon:\n",
    "        U0 = Un\n",
    "        Un = U0+2/U0\n",
    "    return Un\n",
    " \n",
    " \n",
    "print(limite(0.05))"
   ]
  },
  {
   "cell_type": "code",
   "execution_count": null,
   "metadata": {},
   "outputs": [],
   "source": []
  }
 ],
 "metadata": {
  "kernelspec": {
   "display_name": "Python 3",
   "language": "python",
   "name": "python3"
  },
  "language_info": {
   "codemirror_mode": {
    "name": "ipython",
    "version": 3
   },
   "file_extension": ".py",
   "mimetype": "text/x-python",
   "name": "python",
   "nbconvert_exporter": "python",
   "pygments_lexer": "ipython3",
   "version": "3.8.3"
  }
 },
 "nbformat": 4,
 "nbformat_minor": 4
}
